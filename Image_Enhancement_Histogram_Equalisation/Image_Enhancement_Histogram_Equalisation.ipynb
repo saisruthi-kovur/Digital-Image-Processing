{
  "nbformat": 4,
  "nbformat_minor": 0,
  "metadata": {
    "colab": {
      "name": "Image Enhancement-Histogram Equalisation.ipynb",
      "provenance": []
    },
    "kernelspec": {
      "name": "python3",
      "display_name": "Python 3"
    },
    "language_info": {
      "name": "python"
    }
  },
  "cells": [
    {
      "cell_type": "markdown",
      "source": [
        "## Write a program to improve the contrast of an image using histogram equalization. The prototype of the function is as below: histogram_equalisation(input_Image, no_of_bins); The function should return the enhanced image. Consider two low contrast input images."
      ],
      "metadata": {
        "id": "wbKtO6VR78XF"
      }
    },
    {
      "cell_type": "code",
      "source": [
        "import cv2 \n",
        "import numpy as np \n",
        "from matplotlib import pyplot as plt"
      ],
      "metadata": {
        "id": "Py6yL2Wv9TdX"
      },
      "execution_count": null,
      "outputs": []
    },
    {
      "cell_type": "markdown",
      "source": [
        "# IMAGE 1"
      ],
      "metadata": {
        "id": "VuHWOdd98Sv9"
      }
    },
    {
      "cell_type": "code",
      "execution_count": null,
      "metadata": {
        "colab": {
          "base_uri": "https://localhost:8080/",
          "height": 282
        },
        "id": "FTVABCZG7nMH",
        "outputId": "45d8519c-adfa-49de-f922-5e22ad8dce65"
      },
      "outputs": [
        {
          "output_type": "display_data",
          "data": {
            "image/png": "[encoded data removed]",
            "text/plain": [
              "<Figure size 432x288 with 1 Axes>"
            ]
          },
          "metadata": {
            "needs_background": "light"
          }
        },
        {
          "output_type": "execute_result",
          "data": {
            "text/plain": [
              "True"
            ]
          },
          "metadata": {},
          "execution_count": 3
        }
      ],
      "source": [
        "img = cv2.imread('/content/images/lowcontrast1.jpeg',0) \n",
        "hist,bins = np.histogram(img.flatten(),256,[0,256]) \n",
        "cdf = hist.cumsum() \n",
        "cdf_normalized = cdf * hist.max()/ cdf.max() \n",
        "plt.plot(cdf_normalized, color = 'b') \n",
        "plt.hist(img.flatten(),256,[0,256], color = 'r') \n",
        "plt.xlim([0,256]) \n",
        "plt.legend(('cdf','histogram'), loc = 'upper left') \n",
        "plt.show() \n",
        "equ = cv2.equalizeHist(img) \n",
        "#stacking images side-by-side \n",
        "output = np.hstack((img,equ)) \n",
        "cv2.imwrite('/content/images/img1_lc1.jpg',output)"
      ]
    },
    {
      "cell_type": "markdown",
      "source": [
        "\n",
        "*   The nature of the output image quality by varying the number of bins.\n",
        "\n",
        "\n"
      ],
      "metadata": {
        "id": "K4p39ow38d_f"
      }
    },
    {
      "cell_type": "code",
      "source": [
        "img = cv2.imread('/content/images/lowcontrast1.jpeg',0) \n",
        "hist,bins = np.histogram(img.flatten(),32,[0,256]) \n",
        "cdf = hist.cumsum() \n",
        "cdf_normalized = cdf * hist.max()/ cdf.max() \n",
        "plt.plot(cdf_normalized, color = 'b') \n",
        "plt.hist(img.flatten(),32,[0,256], color = 'r') \n",
        "plt.xlim([0,256]) \n",
        "plt.legend(('cdf','histogram'), loc = 'upper left') \n",
        "plt.show() \n",
        "equ = cv2.equalizeHist(img) \n",
        "output = np.hstack((img,equ)) \n",
        "cv2.imwrite('/content/images/img1_lc2.jpg',output)"
      ],
      "metadata": {
        "colab": {
          "base_uri": "https://localhost:8080/",
          "height": 282
        },
        "id": "rZTMujbL77Gr",
        "outputId": "e7f89e7e-03a3-4ccb-e1ee-a2e4b2dd7f42"
      },
      "execution_count": null,
      "outputs": [
        {
          "output_type": "display_data",
          "data": {
            "image/png": "[encoded data removed]",
            "text/plain": [
              "<Figure size 432x288 with 1 Axes>"
            ]
          },
          "metadata": {
            "needs_background": "light"
          }
        },
        {
          "output_type": "execute_result",
          "data": {
            "text/plain": [
              "True"
            ]
          },
          "metadata": {},
          "execution_count": 4
        }
      ]
    },
    {
      "cell_type": "markdown",
      "source": [
        "# IMAGE 2"
      ],
      "metadata": {
        "id": "ZdxYH7sC8uHp"
      }
    },
    {
      "cell_type": "code",
      "source": [
        "img = cv2.imread('/content/images/lowcontrast2.jpeg',0) \n",
        "hist,bins = np.histogram(img.flatten(),256,[0,256]) \n",
        "cdf = hist.cumsum() \n",
        "cdf_normalized = cdf * hist.max()/ cdf.max() \n",
        "plt.plot(cdf_normalized, color = 'b') \n",
        "plt.hist(img.flatten(),256,[0,256], color = 'r') \n",
        "plt.xlim([0,256]) \n",
        "plt.legend(('cdf','histogram'), loc = 'upper left') \n",
        "plt.show() \n",
        "equ = cv2.equalizeHist(img) \n",
        "#stacking images side-by-side \n",
        "output = np.hstack((img,equ)) \n",
        "cv2.imwrite('/content/images/img2_lc1.jpg',output)"
      ],
      "metadata": {
        "colab": {
          "base_uri": "https://localhost:8080/",
          "height": 282
        },
        "id": "jYFBFhTj9DZE",
        "outputId": "92c1b62b-29cc-4288-f30a-45597f564c66"
      },
      "execution_count": null,
      "outputs": [
        {
          "output_type": "display_data",
          "data": {
            "image/png": "[encoded data removed]",
            "text/plain": [
              "<Figure size 432x288 with 1 Axes>"
            ]
          },
          "metadata": {
            "needs_background": "light"
          }
        },
        {
          "output_type": "execute_result",
          "data": {
            "text/plain": [
              "True"
            ]
          },
          "metadata": {},
          "execution_count": 5
        }
      ]
    },
    {
      "cell_type": "markdown",
      "source": [
        "\n",
        "\n",
        "*   The nature of the output image quality by varying the number of bins. \n",
        "\n"
      ],
      "metadata": {
        "id": "xufpfTxB9Hzu"
      }
    },
    {
      "cell_type": "code",
      "source": [
        "img = cv2.imread('/content/images/lowcontrast2.jpeg',0) \n",
        "hist,bins = np.histogram(img.flatten(),8,[0,32]) \n",
        "cdf = hist.cumsum() \n",
        "cdf_normalized = cdf * hist.max()/ cdf.max() \n",
        "plt.plot(cdf_normalized, color = 'b') \n",
        "plt.hist(img.flatten(),8,[0,32], color = 'r') \n",
        "plt.xlim([0,32]) \n",
        "plt.legend(('cdf','histogram'), loc = 'upper left') \n",
        "plt.show() \n",
        "equ = cv2.equalizeHist(img) \n",
        "output = np.hstack((img,equ)) #stacking images side-by-side \n",
        "cv2.imwrite('/content/images/img2_lc2.jpg',output)"
      ],
      "metadata": {
        "colab": {
          "base_uri": "https://localhost:8080/",
          "height": 282
        },
        "id": "RE-nuQ5a9MWU",
        "outputId": "98bd9bbf-6b7b-4067-a3a0-52e969a481b7"
      },
      "execution_count": null,
      "outputs": [
        {
          "output_type": "display_data",
          "data": {
            "image/png": "[encoded data removed]",
            "text/plain": [
              "<Figure size 432x288 with 1 Axes>"
            ]
          },
          "metadata": {
            "needs_background": "light"
          }
        },
        {
          "output_type": "execute_result",
          "data": {
            "text/plain": [
              "True"
            ]
          },
          "metadata": {},
          "execution_count": 6
        }
      ]
    }
  ]
}