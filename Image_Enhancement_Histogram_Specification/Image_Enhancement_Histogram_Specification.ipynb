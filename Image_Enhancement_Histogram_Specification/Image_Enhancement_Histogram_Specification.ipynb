{
  "nbformat": 4,
  "nbformat_minor": 0,
  "metadata": {
    "colab": {
      "name": "Image Enhancement-Histogram Specification.ipynb",
      "provenance": []
    },
    "kernelspec": {
      "name": "python3",
      "display_name": "Python 3"
    },
    "language_info": {
      "name": "python"
    }
  },
  "cells": [
    {
      "cell_type": "markdown",
      "source": [
        "### 1. Take a low contrast grayscale image(A), a high contrast grayscale image(B). Write a program to improve the contrast of A with the help of image B using histogram specification or matching. The prototype of the function is as below: Histogram_sp(input_Image, specified_Iage, no_of_bins); The function should return the enhanced image. "
      ],
      "metadata": {
        "id": "Crz6M7F-s3ap"
      }
    },
    {
      "cell_type": "code",
      "execution_count": 1,
      "metadata": {
        "colab": {
          "base_uri": "https://localhost:8080/"
        },
        "id": "oiGg_72Iw4lt",
        "outputId": "ff3102a4-927c-4458-bc19-07ff8fa8dc03"
      },
      "outputs": [
        {
          "output_type": "execute_result",
          "data": {
            "text/plain": [
              "True"
            ]
          },
          "metadata": {},
          "execution_count": 1
        }
      ],
      "source": [
        "import cv2 \n",
        "import numpy as np \n",
        "\n",
        "def find_nearest_above(my_array, target): \n",
        "  diff = my_array - target \n",
        "  mask = np.ma.less_equal(diff, -1) \n",
        "  # mask the negative differences \n",
        "  if np.all(mask):\n",
        "    c = np.abs(diff).argmin() \n",
        "    return c \n",
        "  masked_diff = np.ma.masked_array(diff, mask) \n",
        "  return masked_diff.argmin() \n",
        "def hist_match(original, specified): \n",
        "  oldshape = original.shape \n",
        "  original = original.ravel() \n",
        "  specified = specified.ravel() \n",
        "  # get the set of unique pixel values and their corresponding indices and counts \n",
        "  s_values, bin_idx, s_counts = np.unique(original, return_inverse=True,return_counts=True) \n",
        "  t_values, t_counts = np.unique(specified, return_counts=True) \n",
        "  # Calculate s_k for original image \n",
        "  s_quantiles = np.cumsum(s_counts).astype(np.float64) \n",
        "  s_quantiles /= s_quantiles[-1]\n",
        "  # Calculate s_k for specified image \n",
        "  t_quantiles = np.cumsum(t_counts).astype(np.float64)\n",
        "  t_quantiles /= t_quantiles[-1] \n",
        "  # Round the values \n",
        "  sour = np.around(s_quantiles*255) \n",
        "  temp = np.around(t_quantiles*255) \n",
        "  # Map the rounded values \n",
        "  b=[] \n",
        "  for data in sour[:]: \n",
        "    b.append(find_nearest_above(temp,data)) \n",
        "  b= np.array(b,dtype='uint8') \n",
        "  return b[bin_idx].reshape(oldshape) \n",
        "\n",
        "# Load the images in grAyscale \n",
        "original = cv2.imread('/content/images/lowcontrast.jpeg',0) \n",
        "specified = cv2.imread('/content/images/highcontrast.jpeg',0) \n",
        "# perform Histogram Specification/Matching \n",
        "a = hist_match(original, specified) \n",
        "# Display the output image \n",
        "cv2.imwrite('/content/images/result.jpg',np.array(a,dtype='uint8'))"
      ]
    }
  ]
}