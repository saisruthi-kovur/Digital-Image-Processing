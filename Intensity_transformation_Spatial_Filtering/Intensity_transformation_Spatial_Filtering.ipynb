{
  "nbformat": 4,
  "nbformat_minor": 0,
  "metadata": {
    "colab": {
      "name": "Intensity transformation-Spatial Filtering.ipynb",
      "provenance": []
    },
    "kernelspec": {
      "name": "python3",
      "display_name": "Python 3"
    },
    "language_info": {
      "name": "python"
    }
  },
  "cells": [
    {
      "cell_type": "markdown",
      "source": [
        ""
      ],
      "metadata": {
        "id": "y7G1L63w-6kK"
      }
    },
    {
      "cell_type": "code",
      "source": [
        "import cv2\n",
        "import numpy as np\n",
        "import matplotlib.pyplot as plt\n",
        "from PIL import Image, ImageFilter\n",
        "from skimage.util import random_noise\n",
        "from scipy.ndimage.filters import median_filter"
      ],
      "metadata": {
        "id": "aGiiL8ZyAN8U"
      },
      "execution_count": 33,
      "outputs": []
    },
    {
      "cell_type": "code",
      "source": [
        "img = cv2.imread('/content/images/grayscale.jpeg')"
      ],
      "metadata": {
        "id": "4ko8SEBhlr_E"
      },
      "execution_count": 34,
      "outputs": []
    },
    {
      "cell_type": "markdown",
      "source": [
        "## 1. Develop programs for following spatial filtering operations on a grayscale image."
      ],
      "metadata": {
        "id": "lMDHHBTX-5H6"
      }
    },
    {
      "cell_type": "markdown",
      "source": [
        "a. Averaging: Implement averaging filtering operations for different\n",
        "window sizes and study their effect on the quality of output image.\n",
        "Write your observations on output image quality."
      ],
      "metadata": {
        "id": "2lDB-6GC--OG"
      }
    },
    {
      "cell_type": "code",
      "execution_count": null,
      "metadata": {
        "colab": {
          "base_uri": "https://localhost:8080/"
        },
        "id": "O7AxD6Wx-psU",
        "outputId": "4da8011d-c9b9-482c-a274-dc1a7e7fd77e"
      },
      "outputs": [
        {
          "output_type": "execute_result",
          "data": {
            "text/plain": [
              "True"
            ]
          },
          "metadata": {},
          "execution_count": 3
        }
      ],
      "source": [
        "avg1 = cv2.blur(img,(9,9))\n",
        "cv2.imwrite('/content/images/averaging(9,9).jpg',avg1) #For 9x9 window\n",
        "avg2 = cv2.blur(img,(25,25))\n",
        "cv2.imwrite('/content/images/averaging(25,25).jpg',avg2) #For 25x25 window\n",
        "avg3 = cv2.blur(img,(45,45))\n",
        "cv2.imwrite('/content/images/averaging(45,45).jpg',avg3) #For 45x45 window"
      ]
    },
    {
      "cell_type": "markdown",
      "source": [
        "b. Weighted averaging: Implement weighted averaging filtering\n",
        "operations for different window sizes and study their effect on the\n",
        "quality of output image. Write your observations on output image\n",
        "quality."
      ],
      "metadata": {
        "id": "w2tfggKvAKiY"
      }
    },
    {
      "cell_type": "code",
      "source": [
        "WeightedAvg1 = cv2.GaussianBlur(img,(9,9),0)\n",
        "cv2.imwrite('/content/images/weightAveraging(9,9).jpg',WeightedAvg1) #For 9x9 window\n",
        "WeightedAvg2 = cv2.GaussianBlur(img,(25,25),0)\n",
        "cv2.imwrite('/content/images/weightAveraging(25,25).jpg',WeightedAvg2) #For 25x25 window\n",
        "WeightedAvg3 = cv2.GaussianBlur(img,(45,45),0)\n",
        "cv2.imwrite('/content/images/weightAveraging(45,45).jpg',WeightedAvg3) #For 45x45 window"
      ],
      "metadata": {
        "colab": {
          "base_uri": "https://localhost:8080/"
        },
        "id": "t79rk4WaAdwF",
        "outputId": "1c4d4fa6-43f7-4897-83a7-d3e5b30192db"
      },
      "execution_count": null,
      "outputs": [
        {
          "output_type": "execute_result",
          "data": {
            "text/plain": [
              "True"
            ]
          },
          "metadata": {},
          "execution_count": 4
        }
      ]
    },
    {
      "cell_type": "markdown",
      "source": [
        "c. Median filtering: Implement weighted averaging filtering operations\n",
        "for different window sizes and study their effect on the quality of\n",
        "output image. Write your observations on output image quality."
      ],
      "metadata": {
        "id": "AkiPhTElA2BV"
      }
    },
    {
      "cell_type": "code",
      "source": [
        "median1 = cv2.medianBlur(img,9)\n",
        "cv2.imwrite('/content/images/median(9,9).jpg',median1) #For 9x9 window\n",
        "median2 = cv2.medianBlur(img,25)\n",
        "cv2.imwrite('/content/images/median(25,25).jpg',median2) #For 25x25 window\n",
        "median3 = cv2.medianBlur(img,45)\n",
        "cv2.imwrite('/content/images/median(45,45).jpg',median3) #For 45x45 window"
      ],
      "metadata": {
        "colab": {
          "base_uri": "https://localhost:8080/"
        },
        "id": "xBYh72MFA3hy",
        "outputId": "1bfa382b-6c24-4ef2-c026-1df860b3f925"
      },
      "execution_count": null,
      "outputs": [
        {
          "output_type": "execute_result",
          "data": {
            "text/plain": [
              "True"
            ]
          },
          "metadata": {},
          "execution_count": 5
        }
      ]
    },
    {
      "cell_type": "markdown",
      "source": [
        "d. Max filtering"
      ],
      "metadata": {
        "id": "p-bHuK1iB4PL"
      }
    },
    {
      "cell_type": "code",
      "source": [
        "im1 = Image.open(r\"/content/images/grayscale.jpeg\")\n",
        "# applying the max filter\n",
        "im2 = im1.filter(ImageFilter.MaxFilter(size = 9))\n",
        "im2.save('/content/images/maxfiltering.jpg', quality=100)"
      ],
      "metadata": {
        "id": "hbsvK5bAB5Hs"
      },
      "execution_count": null,
      "outputs": []
    },
    {
      "cell_type": "markdown",
      "source": [
        "## 2. Take a grayscale image and add salt and pepper noise."
      ],
      "metadata": {
        "id": "ufY7h_0sl4Kc"
      }
    },
    {
      "cell_type": "code",
      "source": [
        "# Add salt-and-pepper noise to the image.\n",
        "noise_img = random_noise(img, mode='s&p',amount=0.3)\n",
        "# on the range [0, 1], thus we changed it to 'uint8'\n",
        "# and from [0,255]\n",
        "noise_img = np.array(255*noise_img, dtype = 'uint8')\n",
        "cv2.imwrite('/content/images/noise.jpeg',noise_img)\n",
        "cv2.waitKey(0)"
      ],
      "metadata": {
        "colab": {
          "base_uri": "https://localhost:8080/"
        },
        "id": "pOgBiIoAl4g6",
        "outputId": "27205176-12e5-4d89-c94a-b479547d2b1e"
      },
      "execution_count": null,
      "outputs": [
        {
          "output_type": "execute_result",
          "data": {
            "text/plain": [
              "-1"
            ]
          },
          "metadata": {},
          "execution_count": 13
        }
      ]
    },
    {
      "cell_type": "markdown",
      "source": [
        "Write programs for following operations and observe their outputs"
      ],
      "metadata": {
        "id": "GVEnYJlks7v8"
      }
    },
    {
      "cell_type": "markdown",
      "source": [
        "a. Linear smoothing or Image averaging"
      ],
      "metadata": {
        "id": "__W0GGfAs8yA"
      }
    },
    {
      "cell_type": "code",
      "source": [
        "img = cv2.imread('/content/images/noise.jpeg')"
      ],
      "metadata": {
        "id": "YB8taHjluTHU"
      },
      "execution_count": null,
      "outputs": []
    },
    {
      "cell_type": "code",
      "source": [
        "avg1 = cv2.blur(img,(9,9))\n",
        "cv2.imwrite('/content/images/avg(9,9).jpg',avg1) #For 9x9 window\n",
        "avg2 = cv2.blur(img,(25,25))\n",
        "cv2.imwrite('/content/images/avg(25,25).jpg',avg2) #For 25x25 window\n",
        "avg3 = cv2.blur(img,(45,45))\n",
        "cv2.imwrite('/content/images/avg(45,45).jpg',avg3) #For 45x45 window"
      ],
      "metadata": {
        "colab": {
          "base_uri": "https://localhost:8080/"
        },
        "id": "fpXMnbF0tBKd",
        "outputId": "490f57dc-e44a-4cc9-cf9f-88eeb437a095"
      },
      "execution_count": null,
      "outputs": [
        {
          "output_type": "execute_result",
          "data": {
            "text/plain": [
              "True"
            ]
          },
          "metadata": {},
          "execution_count": 15
        }
      ]
    },
    {
      "cell_type": "markdown",
      "source": [
        "b. Weighted averaging"
      ],
      "metadata": {
        "id": "sUQWmTantXzL"
      }
    },
    {
      "cell_type": "code",
      "source": [
        "WeightedAvg1 = cv2.GaussianBlur(img,(9,9),0)\n",
        "cv2.imwrite('/content/images/weightedAvg(9,9).jpg',WeightedAvg1) #For 9x9 window\n",
        "WeightedAvg2 = cv2.GaussianBlur(img,(25,25),0)\n",
        "cv2.imwrite('/content/images/weightedAvg(25,25).jpg',WeightedAvg2) #For 25x25 window\n",
        "WeightedAvg3 = cv2.GaussianBlur(img,(45,45),0)\n",
        "cv2.imwrite('/content/images/weightedAvg(45,45).jpg',WeightedAvg3) #For 45x45 window"
      ],
      "metadata": {
        "colab": {
          "base_uri": "https://localhost:8080/"
        },
        "id": "24_FSPcrtWvz",
        "outputId": "282430a9-3a17-4c63-e027-394f8cca08f7"
      },
      "execution_count": null,
      "outputs": [
        {
          "output_type": "execute_result",
          "data": {
            "text/plain": [
              "True"
            ]
          },
          "metadata": {},
          "execution_count": 16
        }
      ]
    },
    {
      "cell_type": "markdown",
      "source": [
        "c. Median filtering. Compare the output quality among Image\n",
        "averaging and median filtering."
      ],
      "metadata": {
        "id": "SEPADnmPtnk-"
      }
    },
    {
      "cell_type": "code",
      "source": [
        "median1 = cv2.medianBlur(img,9)\n",
        "cv2.imwrite('/content/images/med(9,9).jpg',median1) #For 9x9 window\n",
        "median2 = cv2.medianBlur(img,25)\n",
        "cv2.imwrite('/content/images/med(25,25).jpg',median2) #For 25x25 window\n",
        "median3 = cv2.medianBlur(img,45)\n",
        "cv2.imwrite('/content/images/med(45,45).jpg',median3) #For 45x45 window"
      ],
      "metadata": {
        "colab": {
          "base_uri": "https://localhost:8080/"
        },
        "id": "-RlMnpsPtoFS",
        "outputId": "d62de958-b389-4719-b6c3-bf1a5a27e841"
      },
      "execution_count": null,
      "outputs": [
        {
          "output_type": "execute_result",
          "data": {
            "text/plain": [
              "True"
            ]
          },
          "metadata": {},
          "execution_count": 17
        }
      ]
    },
    {
      "cell_type": "markdown",
      "source": [
        "d. Max filtering"
      ],
      "metadata": {
        "id": "iW4kQ-_gtxAa"
      }
    },
    {
      "cell_type": "code",
      "source": [
        "im1 = Image.open(r\"/content/images/noise.jpeg\")\n",
        "# applying the max filter\n",
        "im2 = im1.filter(ImageFilter.MaxFilter(size = 9))\n",
        "im2.save('/content/images/maxfilter.jpg', quality=100)"
      ],
      "metadata": {
        "id": "7Uz9_AgTtxXe"
      },
      "execution_count": null,
      "outputs": []
    },
    {
      "cell_type": "markdown",
      "source": [
        "e. Min filtering"
      ],
      "metadata": {
        "id": "AsvkqvFOt5zh"
      }
    },
    {
      "cell_type": "code",
      "source": [
        "im1 = Image.open(r\"/content/images/noise.jpeg\")\n",
        "# applying the min filter\n",
        "im2 = im1.filter(ImageFilter.MinFilter(size = 9))\n",
        "im2.save('/content/images/minfilter.jpg', quality=100)"
      ],
      "metadata": {
        "id": "06xCrtzlt6fR"
      },
      "execution_count": null,
      "outputs": []
    },
    {
      "cell_type": "markdown",
      "source": [
        "## 3. Write programs to perform following sharpening operations on a grayscale image"
      ],
      "metadata": {
        "id": "WYGadtjA1gAg"
      }
    },
    {
      "cell_type": "markdown",
      "source": [
        "a. Laplacian filter"
      ],
      "metadata": {
        "id": "4XYOcllS1sRG"
      }
    },
    {
      "cell_type": "code",
      "source": [
        "# Apply Gaussian Blur\n",
        "blur = cv2.GaussianBlur(img,(3,3),0)\n",
        "# Apply Laplacian operator in some higher datatype\n",
        "laplacian = cv2.Laplacian(blur,cv2.CV_64F)\n",
        "# But this tends to localize the edge towards the brighter side.\n",
        "laplacian1 = laplacian/laplacian.max()\n",
        "cv2.imwrite('/content/images/laplacian.jpg',laplacian1)\n",
        "cv2.waitKey(0)"
      ],
      "metadata": {
        "colab": {
          "base_uri": "https://localhost:8080/"
        },
        "id": "6sfeqp_q1x2I",
        "outputId": "0d430f05-e79f-4574-8012-b1ddfcd02e25"
      },
      "execution_count": 28,
      "outputs": [
        {
          "output_type": "execute_result",
          "data": {
            "text/plain": [
              "-1"
            ]
          },
          "metadata": {},
          "execution_count": 28
        }
      ]
    },
    {
      "cell_type": "markdown",
      "source": [
        "b. Filtering using a composite mask"
      ],
      "metadata": {
        "id": "CBunT7bR132s"
      }
    },
    {
      "cell_type": "code",
      "source": [
        "im1 = Image.open('/content/images/img1.jpeg')\n",
        "im2 = Image.open('/content/images/img2.jpeg').resize(im1.size)\n",
        "mask = Image.new(\"L\", im1.size, 128)\n",
        "im = Image.composite(im1, im2, mask)\n",
        "im.show()"
      ],
      "metadata": {
        "id": "VN-12mEZ15VX"
      },
      "execution_count": 29,
      "outputs": []
    },
    {
      "cell_type": "markdown",
      "source": [
        "c. Unsharp masking"
      ],
      "metadata": {
        "id": "Wbd9SARE18pB"
      }
    },
    {
      "cell_type": "code",
      "source": [
        "gray_image = plt.imread('/content/images/grayscale.jpeg').astype('uint16')\n",
        "# Median filtering\n",
        "gray_image_mf = median_filter(gray_image, 1)\n",
        "# Calculate the Laplacian\n",
        "lap = cv2.Laplacian(gray_image_mf,cv2.CV_64F)\n",
        "# Calculate the sharpened image\n",
        "sharp = gray_image - 0.7*lap\n",
        "cv2.imwrite('/content/images/sharpening.jpg',sharp)"
      ],
      "metadata": {
        "colab": {
          "base_uri": "https://localhost:8080/"
        },
        "id": "rn2cm4Jt2IYq",
        "outputId": "d4e1ca2f-7d2c-4cdb-99a7-e49b6b695d4d"
      },
      "execution_count": 30,
      "outputs": [
        {
          "output_type": "execute_result",
          "data": {
            "text/plain": [
              "True"
            ]
          },
          "metadata": {},
          "execution_count": 30
        }
      ]
    },
    {
      "cell_type": "markdown",
      "source": [
        "d. High boost filtering"
      ],
      "metadata": {
        "id": "xCybaxpK2OPA"
      }
    },
    {
      "cell_type": "code",
      "source": [
        "gauss = cv2.GaussianBlur(img, (7,7), 10)\n",
        "Highboost_image = cv2.addWeighted(img, 2, gauss, -1, 0)\n",
        "cv2.imwrite('/content/images/highboost.jpg',Highboost_image)"
      ],
      "metadata": {
        "colab": {
          "base_uri": "https://localhost:8080/"
        },
        "id": "kGijvefh2Otp",
        "outputId": "777ca42d-00a8-445f-dbdc-cbbb46d8de8b"
      },
      "execution_count": 31,
      "outputs": [
        {
          "output_type": "execute_result",
          "data": {
            "text/plain": [
              "True"
            ]
          },
          "metadata": {},
          "execution_count": 31
        }
      ]
    },
    {
      "cell_type": "markdown",
      "source": [
        "e. Filtering using first-order derivative operators such as Sobel and Prewitt mask."
      ],
      "metadata": {
        "id": "WZ6GO6N-2bTM"
      }
    },
    {
      "cell_type": "code",
      "source": [
        "gray = cv2.cvtColor(img, cv2.COLOR_BGR2GRAY)\n",
        "img_gaussian = cv2.GaussianBlur(gray,(3,3),0)\n",
        "#sobel\n",
        "img_sobelx = cv2.Sobel(img_gaussian,cv2.CV_8U,1,0,ksize=5)\n",
        "img_sobely = cv2.Sobel(img_gaussian,cv2.CV_8U,0,1,ksize=5)\n",
        "img_sobel = img_sobelx + img_sobely\n",
        "#prewitt\n",
        "kernelx = np.array([[1,1,1],[0,0,0],[-1,-1,-1]])\n",
        "kernely = np.array([[-1,0,1],[-1,0,1],[-1,0,1]])\n",
        "img_prewittx = cv2.filter2D(img_gaussian, -1, kernelx)\n",
        "img_prewitty = cv2.filter2D(img_gaussian, -1, kernely)\n",
        "cv2.imwrite(\"/content/images/sobel.jpg\", img_sobel)\n",
        "cv2.imwrite(\"/content/images/prewitt.jpg\", img_prewittx + img_prewitty)\n",
        "cv2.waitKey(0)\n",
        "cv2.destroyAllWindows()"
      ],
      "metadata": {
        "id": "zYUz4KW12b-3"
      },
      "execution_count": 32,
      "outputs": []
    }
  ]
}